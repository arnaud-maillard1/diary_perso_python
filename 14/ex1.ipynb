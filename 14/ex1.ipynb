{
 "cells": [
  {
   "attachments": {},
   "cell_type": "markdown",
   "metadata": {},
   "source": [
    "# Exercice 1 \n",
    "\n",
    "On aimerait créer un décorateur qui logue dans un fichier les argumenets passés à une fonction, ainsi que le temps d'exécution de la fonction. Ce décorateur s'utilise comme ceci :\n",
    "\n",
    "```python\n",
    "@heig\n",
    "def myFunc(a,b) :\n",
    "    return[(a + b) for i in range(1000000)]\n",
    "```\n",
    "\n",
    "Les paramètres à loguer sont: \n",
    "\n",
    "1. Le nom de la fonction appelée\n",
    "2. Les arguments passés à la fonction\n",
    "3. Le temps d'exécution de la fonction\n",
    "4. La valeur de retour de la fonction\n",
    "5. L'heure et la date de l'appel\n",
    "\n",
    "Les concepts et bibliothèques utilsées seront: \n",
    "\n",
    "- import logging (à configurer pour écrire dans un fichier)\n",
    "- les décorateurs (voir fonction wrap)\n",
    "- exception (si y'a un problème avec la fonction)\n",
    "- import inspect (pour connaître le nom de la fonction)\n",
    "- import time (pour mesurer le temps d'exécution)"
   ]
  },
  {
   "cell_type": "code",
   "execution_count": 47,
   "metadata": {},
   "outputs": [],
   "source": [
    "import logging\n",
    "import time\n",
    "from datetime import datetime\n",
    "from importlib import reload\n",
    "\n",
    "def heig(func):\n",
    "    def wrapper(*args, **kwargs):\n",
    "        reload(logging)\n",
    "        logging.basicConfig(filename='spam.log', level=logging.INFO)\n",
    "        start_time = time.time()\n",
    "        start_time_formated = datetime.fromtimestamp(start_time)\n",
    "\n",
    "        try :\n",
    "            result = func(*args, **kwargs)\n",
    "        except Exception as e:\n",
    "            logging.error(f\"Erreur : {e}\")\n",
    "\n",
    "        end_time = time.time()\n",
    "\n",
    "        logging.info(f\"Nom de la fonction : {func.__name__}\")\n",
    "        logging.info(f\"Arguments : {args}, kwargs : {kwargs}\")\n",
    "        logging.info(f\"Temps d'exécution : {end_time - start_time} seconds.\")\n",
    "        logging.info(f\"Valeur de retour : {result}\")\n",
    "        logging.info(f\"Date et heure de l'appel : {start_time_formated}\")\n",
    "        return result\n",
    "    return wrapper\n",
    "\n",
    "@heig\n",
    "def myFunc(a, b) :\n",
    "    return [(a + b) for i in range(1000)]\n",
    "\n",
    "test = myFunc(23, 42)"
   ]
  }
 ],
 "metadata": {
  "kernelspec": {
   "display_name": "Python 3",
   "language": "python",
   "name": "python3"
  },
  "language_info": {
   "codemirror_mode": {
    "name": "ipython",
    "version": 3
   },
   "file_extension": ".py",
   "mimetype": "text/x-python",
   "name": "python",
   "nbconvert_exporter": "python",
   "pygments_lexer": "ipython3",
   "version": "3.8.10"
  },
  "orig_nbformat": 4
 },
 "nbformat": 4,
 "nbformat_minor": 2
}
