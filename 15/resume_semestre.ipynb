{
 "cells": [
  {
   "attachments": {},
   "cell_type": "markdown",
   "metadata": {},
   "source": [
    "# Résumé du cours de à choix de python"
   ]
  },
  {
   "cell_type": "code",
   "execution_count": 2,
   "metadata": {},
   "outputs": [],
   "source": [
    "import numpy as np\n",
    "import matplotlib.pyplot as plt\n",
    "import pandas as pd\n",
    "import pint "
   ]
  },
  {
   "attachments": {},
   "cell_type": "markdown",
   "metadata": {},
   "source": [
    "# Structure de données\n",
    "\n",
    "## Les scalaires\n",
    "\n",
    "Les différentes strucutres de données scalaires sont les suivantes :\n",
    "\n",
    "- Integers\n",
    "- Floats\n",
    "- Complex\n",
    "- Strings\n",
    "- Boolean\n",
    "- None"
   ]
  },
  {
   "cell_type": "code",
   "execution_count": 5,
   "metadata": {},
   "outputs": [
    {
     "name": "stdout",
     "output_type": "stream",
     "text": [
      "<class 'int'>\n",
      "<class 'float'>\n",
      "<class 'complex'>\n",
      "<class 'bool'>\n",
      "<class 'str'>\n",
      "<class 'NoneType'>\n"
     ]
    }
   ],
   "source": [
    "i = int(42) # Integers\n",
    "print(type(i))\n",
    "f = float(42.0) # Floating point numbers\n",
    "print(type(f))\n",
    "c = 42.0 + 0.0j # Complex numbers\n",
    "print(type(c))\n",
    "b = True # Booleans\n",
    "print(type(b))\n",
    "s = \"42\" # Strings\n",
    "print(type(s))\n",
    "n = None # NoneType\n",
    "print(type(n))"
   ]
  },
  {
   "attachments": {},
   "cell_type": "markdown",
   "metadata": {},
   "source": [
    "## Conteneurs\n",
    "\n",
    "Il y a différents types de conteneurs en python :\n",
    "- Listes : utilisent le symbole `[]\n",
    "- Tuples : utilisent le symbole `()`\n",
    "- Dictionnaires : utilisent le symbole `{}`\n",
    "- Set : utilisent le symbole `{}`\n",
    "\n",
    "### Listes\n",
    "\n",
    "Les principales propriétés des listes sont les suivantes :\n",
    "- Non hashable\n",
    "- Possède un itérateur\n",
    "\n",
    "**Non hashable** : on ne peut générer une valeur unique à partir de la liste. On ne peut donc pas utiliser une liste comme clé dans un dictionnaire.\n",
    "\n",
    "**Possède un itérateur** : on peut parcourir la liste avec une boucle for.\n",
    "\n"
   ]
  },
  {
   "cell_type": "code",
   "execution_count": 18,
   "metadata": {},
   "outputs": [
    {
     "name": "stdout",
     "output_type": "stream",
     "text": [
      "unhashable type: 'list'\n",
      "\n",
      "Possède un itérateur :\n",
      "1\n",
      "2\n",
      "\n",
      "Boucle for :\n",
      "1\n",
      "2\n",
      "3\n",
      "4\n",
      "5\n",
      "\n",
      "Next ne marche pas si l'itérateur n'est pas stocké dans une variable :\n",
      "1\n",
      "1\n"
     ]
    }
   ],
   "source": [
    "l = [1, 2, 3, 4, 5] # Liste\n",
    "\n",
    "# Non-hashable\n",
    "try :\n",
    "    print(hash(l))\n",
    "except TypeError as e:\n",
    "    print(e)\n",
    "\n",
    "# Possède un itérateur\n",
    "iter_l = iter(l)\n",
    "print('\\nPossède un itérateur :')\n",
    "print(next(iter_l))\n",
    "print(next(iter_l))\n",
    "\n",
    "print('\\nBoucle for :')\n",
    "for i in l:\n",
    "    print(i)\n",
    "\n",
    "# Next ne marche pas si l'itérateur n'est pas stocké dans une variable\n",
    "print('\\nNext ne marche pas si l\\'itérateur n\\'est pas stocké dans une variable :')\n",
    "print(next(iter(l)))\n",
    "print(next(iter(l)))\n"
   ]
  },
  {
   "attachments": {},
   "cell_type": "markdown",
   "metadata": {},
   "source": [
    "Compréhension de liste :"
   ]
  },
  {
   "cell_type": "code",
   "execution_count": 26,
   "metadata": {},
   "outputs": [
    {
     "name": "stdout",
     "output_type": "stream",
     "text": [
      "\n",
      "String :\n",
      "1 2 3 4 5\n",
      "Séparation :\n",
      "['1', '2', '3', '4', '5']\n"
     ]
    }
   ],
   "source": [
    "s = \"1 2 3 4 5\" # String\n",
    "\n",
    "print('\\nString :')\n",
    "print(s)\n",
    "\n",
    "print('Séparation :')\n",
    "s_sep = [s.strip() for s in s.split(' ')]\n",
    "print(s_sep)"
   ]
  },
  {
   "attachments": {},
   "cell_type": "markdown",
   "metadata": {},
   "source": [
    "### Tuples\n",
    "\n",
    "Les principales propriétés des tuples sont les suivantes :\n",
    "- Hashable\n",
    "- Possède un itérateur\n",
    "- Non modifiable\n",
    "\n",
    "**Hashable** : on peut générer une valeur unique à partir du tuple. On peut donc utiliser un tuple comme clé dans un dictionnaire.\n",
    "\n",
    "**Possède un itérateur** : on peut parcourir le tuple avec une boucle for.\n",
    "\n",
    "**Non modifiable** : on ne peut pas modifier un tuple. On peut seulement le parcourir."
   ]
  },
  {
   "cell_type": "code",
   "execution_count": 3,
   "metadata": {},
   "outputs": [
    {
     "name": "stdout",
     "output_type": "stream",
     "text": [
      "\n",
      "Hashable :\n",
      "-5659871693760987716\n",
      "\n",
      "Possède un itérateur :\n",
      "1\n",
      "2\n",
      "\n",
      "Boucle for :\n",
      "1\n",
      "2\n",
      "3\n",
      "4\n",
      "5\n",
      "\n",
      "Non modifiable :\n",
      "'tuple' object does not support item assignment\n"
     ]
    }
   ],
   "source": [
    "# Hashable\n",
    "t = (1, 2, 3, 4, 5) # Tuple\n",
    "print('\\nHashable :')\n",
    "try :\n",
    "    print(hash(t))\n",
    "except TypeError as e:\n",
    "    print(e)\n",
    "\n",
    "# Possède un itérateur\n",
    "iter_t = iter(t)\n",
    "print('\\nPossède un itérateur :')\n",
    "print(next(iter_t))\n",
    "print(next(iter_t))\n",
    "\n",
    "print('\\nBoucle for :')\n",
    "for i in t:\n",
    "    print(i)\n",
    "\n",
    "# Non modifiable\n",
    "print('\\nNon modifiable :')\n",
    "try :\n",
    "    t[0] = 42\n",
    "except TypeError as e:\n",
    "    print(e)"
   ]
  },
  {
   "attachments": {},
   "cell_type": "markdown",
   "metadata": {},
   "source": [
    "### Dictionnaires\n",
    "\n",
    "Les principales propriétés des dictionnaires sont les suivantes :\n",
    "- Les clés doivent être hashables (donc pas de listes comme clés)\n",
    "- Lent à parcourir\n",
    "- Propriétés d'un dictionnaire :\n",
    "  - .items() : retourne les clés et les valeurs\n",
    "  - .values() : retourne les valeurs\n",
    "  - .keys() : retourne les clés\n",
    "- Hash Table\n",
    "\n",
    "**Hash Table** : un dictionnaire est une table de hashage. Il calcule un hash code pour chaque clé."
   ]
  },
  {
   "cell_type": "code",
   "execution_count": 24,
   "metadata": {},
   "outputs": [
    {
     "name": "stdout",
     "output_type": "stream",
     "text": [
      "Dictionnaire hashable :\n",
      "{'a': 1, 'b': 2, 'c': 3}\n",
      "\n",
      "Les clés doivent être hashable :\n",
      "unhashable type: 'list'\n",
      "\n",
      "Propriétés des dictionnaires :\n",
      "Keys : dict_keys(['a', 'b', 'c'])\n",
      "Values : dict_values([1, 2, 3])\n",
      "Items : dict_items([('a', 1), ('b', 2), ('c', 3)])\n"
     ]
    }
   ],
   "source": [
    "d = {'a' : 1, 'b' : 2, 'c' : 3} # Dictionnaire hashable\n",
    "print('Dictionnaire hashable :')\n",
    "print(d)\n",
    "\n",
    "# Les clés dovient être hashable\n",
    "print('\\nLes clés doivent être hashable :')\n",
    "try :\n",
    "    d_unhashable = {[1, 2, 3] : 1, [4, 5, 6] : 2}\n",
    "except TypeError as e:\n",
    "    print(e)\n",
    "\n",
    "# Propriétés des dictionnaires\n",
    "print('\\nPropriétés des dictionnaires :')\n",
    "print('Keys :', d.keys())\n",
    "print('Values :', d.values())\n",
    "print('Items :', d.items())\n"
   ]
  },
  {
   "attachments": {},
   "cell_type": "markdown",
   "metadata": {},
   "source": [
    "### Set\n",
    "\n",
    "Les principales propriétés des set sont les suivantes :\n",
    "- Un dictionnaire avec que des clés.\n",
    "- Rend les éléments uniques"
   ]
  },
  {
   "cell_type": "code",
   "execution_count": 19,
   "metadata": {},
   "outputs": [
    {
     "name": "stdout",
     "output_type": "stream",
     "text": [
      "\n",
      "Type : <class 'set'>\n",
      "\n",
      "Rend les éléments uniques :\n",
      "{1, 2, 3, 4, 5}\n"
     ]
    }
   ],
   "source": [
    "u = {1, 2, 3, 4, 5} # Set\n",
    "print('\\nType :', type(u))\n",
    "\n",
    "# Rend les éléments uniques\n",
    "print('\\nRend les éléments uniques :')\n",
    "u = {1,1,1,1,1,2,2,2,3,4,4,5}\n",
    "print(u)\n",
    "\n"
   ]
  },
  {
   "attachments": {},
   "cell_type": "markdown",
   "metadata": {},
   "source": [
    "# Classes\n",
    "\n",
    "Python est un langage orienté objet. Il est donc possible de créer des classes.\n",
    "\n",
    "Voici quelques unes des méthodes `magiques` des classes python sont les suivanets :\n",
    "- `__init__` : initialisateur de classe qui peut prendre des paramètres\n",
    "- `__next__` : qui retourne l'élément suivant d'une séquence\n",
    "- `__iter__` : qui retourne un itérateur sur une séquence\n"
   ]
  }
 ],
 "metadata": {
  "kernelspec": {
   "display_name": "Python 3",
   "language": "python",
   "name": "python3"
  },
  "language_info": {
   "codemirror_mode": {
    "name": "ipython",
    "version": 3
   },
   "file_extension": ".py",
   "mimetype": "text/x-python",
   "name": "python",
   "nbconvert_exporter": "python",
   "pygments_lexer": "ipython3",
   "version": "3.8.10"
  },
  "orig_nbformat": 4
 },
 "nbformat": 4,
 "nbformat_minor": 2
}
