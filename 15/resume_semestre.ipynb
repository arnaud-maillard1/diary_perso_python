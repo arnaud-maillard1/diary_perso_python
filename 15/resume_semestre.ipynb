{
 "cells": [
  {
   "attachments": {},
   "cell_type": "markdown",
   "metadata": {},
   "source": [
    "# Résumé du cours de à choix de python"
   ]
  },
  {
   "cell_type": "code",
   "execution_count": 1,
   "metadata": {},
   "outputs": [],
   "source": [
    "import numpy as np\n",
    "import matplotlib.pyplot as plt\n",
    "import pandas as pd\n",
    "import pint "
   ]
  },
  {
   "attachments": {},
   "cell_type": "markdown",
   "metadata": {},
   "source": [
    "# Structure de données\n",
    "\n",
    "## Les scalaires\n",
    "\n",
    "Les différentes strucutres de données scalaires sont les suivantes :\n",
    "\n",
    "- Integers\n",
    "- Floats\n",
    "- Complex\n",
    "- Strings\n",
    "- Boolean\n",
    "- None"
   ]
  },
  {
   "cell_type": "code",
   "execution_count": 2,
   "metadata": {},
   "outputs": [
    {
     "name": "stdout",
     "output_type": "stream",
     "text": [
      "<class 'int'>\n",
      "<class 'float'>\n",
      "<class 'complex'>\n",
      "<class 'bool'>\n",
      "<class 'str'>\n",
      "<class 'NoneType'>\n"
     ]
    }
   ],
   "source": [
    "i = int(42) # Integers\n",
    "print(type(i))\n",
    "f = float(42.0) # Floating point numbers\n",
    "print(type(f))\n",
    "c = 42.0 + 0.0j # Complex numbers\n",
    "print(type(c))\n",
    "b = True # Booleans\n",
    "print(type(b))\n",
    "s = \"42\" # Strings\n",
    "print(type(s))\n",
    "n = None # NoneType\n",
    "print(type(n))"
   ]
  },
  {
   "attachments": {},
   "cell_type": "markdown",
   "metadata": {},
   "source": [
    "## Conteneurs\n",
    "\n",
    "Il y a différents types de conteneurs en python :\n",
    "- Listes : utilisent le symbole `[]\n",
    "- Tuples : utilisent le symbole `()`\n",
    "- Dictionnaires : utilisent le symbole `{}`\n",
    "- Set : utilisent le symbole `{}`\n",
    "\n",
    "### Listes\n",
    "\n",
    "Les principales propriétés des listes sont les suivantes :\n",
    "- Non hashable\n",
    "- Possède un itérateur\n",
    "\n",
    "**Non hashable** : on ne peut générer une valeur unique à partir de la liste. On ne peut donc pas utiliser une liste comme clé dans un dictionnaire.\n",
    "\n",
    "**Possède un itérateur** : on peut parcourir la liste avec une boucle for.\n",
    "\n"
   ]
  },
  {
   "cell_type": "code",
   "execution_count": 3,
   "metadata": {},
   "outputs": [
    {
     "name": "stdout",
     "output_type": "stream",
     "text": [
      "unhashable type: 'list'\n",
      "\n",
      "Possède un itérateur :\n",
      "1\n",
      "2\n",
      "\n",
      "Boucle for :\n",
      "1\n",
      "2\n",
      "3\n",
      "4\n",
      "5\n",
      "\n",
      "Next ne marche pas si l'itérateur n'est pas stocké dans une variable :\n",
      "1\n",
      "1\n"
     ]
    }
   ],
   "source": [
    "l = [1, 2, 3, 4, 5] # Liste\n",
    "\n",
    "# Non-hashable\n",
    "try :\n",
    "    print(hash(l))\n",
    "except TypeError as e:\n",
    "    print(e)\n",
    "\n",
    "# Possède un itérateur\n",
    "iter_l = iter(l)\n",
    "print('\\nPossède un itérateur :')\n",
    "print(next(iter_l))\n",
    "print(next(iter_l))\n",
    "\n",
    "print('\\nBoucle for :')\n",
    "for i in l:\n",
    "    print(i)\n",
    "\n",
    "# Next ne marche pas si l'itérateur n'est pas stocké dans une variable\n",
    "print('\\nNext ne marche pas si l\\'itérateur n\\'est pas stocké dans une variable :')\n",
    "print(next(iter(l)))\n",
    "print(next(iter(l)))\n"
   ]
  },
  {
   "attachments": {},
   "cell_type": "markdown",
   "metadata": {},
   "source": [
    "Compréhension de liste :"
   ]
  },
  {
   "cell_type": "code",
   "execution_count": 4,
   "metadata": {},
   "outputs": [
    {
     "name": "stdout",
     "output_type": "stream",
     "text": [
      "\n",
      "String :\n",
      "1 2 3 4 5\n",
      "Séparation :\n",
      "['1', '2', '3', '4', '5']\n",
      "Transformation en int :\n",
      "[1, 2, 3, 4, 5]\n",
      "Ajout de 10 :\n",
      "[11, 12, 13, 14]\n"
     ]
    }
   ],
   "source": [
    "s = \"1 2 3 4 5\" # String\n",
    "\n",
    "print('\\nString :')\n",
    "print(s)\n",
    "\n",
    "print('Séparation :')\n",
    "s_sep = [s.strip() for s in s.split(' ')]\n",
    "print(s_sep)\n",
    "\n",
    "print('Transformation en int :')\n",
    "s_int = [int(s) for s in s_sep]\n",
    "print(s_int)\n",
    "\n",
    "print('Ajout de 10 :')\n",
    "s1 = [s_int+ 10 for s_int in [1,2,3,4]]\n",
    "print(s1)\n",
    "\n"
   ]
  },
  {
   "attachments": {},
   "cell_type": "markdown",
   "metadata": {},
   "source": [
    "### Tuples\n",
    "\n",
    "Les principales propriétés des tuples sont les suivantes :\n",
    "- Hashable\n",
    "- Possède un itérateur\n",
    "- Non modifiable\n",
    "\n",
    "**Hashable** : on peut générer une valeur unique à partir du tuple. On peut donc utiliser un tuple comme clé dans un dictionnaire.\n",
    "\n",
    "**Possède un itérateur** : on peut parcourir le tuple avec une boucle for.\n",
    "\n",
    "**Non modifiable** : on ne peut pas modifier un tuple. On peut seulement le parcourir."
   ]
  },
  {
   "cell_type": "code",
   "execution_count": 5,
   "metadata": {},
   "outputs": [
    {
     "name": "stdout",
     "output_type": "stream",
     "text": [
      "\n",
      "Hashable :\n",
      "-5659871693760987716\n",
      "\n",
      "Possède un itérateur :\n",
      "1\n",
      "2\n",
      "\n",
      "Boucle for :\n",
      "1\n",
      "2\n",
      "3\n",
      "4\n",
      "5\n",
      "\n",
      "Non modifiable :\n",
      "'tuple' object does not support item assignment\n"
     ]
    }
   ],
   "source": [
    "# Hashable\n",
    "t = (1, 2, 3, 4, 5) # Tuple\n",
    "print('\\nHashable :')\n",
    "try :\n",
    "    print(hash(t))\n",
    "except TypeError as e:\n",
    "    print(e)\n",
    "\n",
    "# Possède un itérateur\n",
    "iter_t = iter(t)\n",
    "print('\\nPossède un itérateur :')\n",
    "print(next(iter_t))\n",
    "print(next(iter_t))\n",
    "\n",
    "print('\\nBoucle for :')\n",
    "for i in t:\n",
    "    print(i)\n",
    "\n",
    "# Non modifiable\n",
    "print('\\nNon modifiable :')\n",
    "try :\n",
    "    t[0] = 42\n",
    "except TypeError as e:\n",
    "    print(e)"
   ]
  },
  {
   "attachments": {},
   "cell_type": "markdown",
   "metadata": {},
   "source": [
    "### Dictionnaires\n",
    "\n",
    "Les principales propriétés des dictionnaires sont les suivantes :\n",
    "- Les clés doivent être hashables (donc pas de listes comme clés)\n",
    "- Lent à parcourir\n",
    "- Propriétés d'un dictionnaire :\n",
    "  - .items() : retourne les clés et les valeurs\n",
    "  - .values() : retourne les valeurs\n",
    "  - .keys() : retourne les clés\n",
    "- Hash Table\n",
    "\n",
    "**Hash Table** : un dictionnaire est une table de hashage. Il calcule un hash code pour chaque clé."
   ]
  },
  {
   "cell_type": "code",
   "execution_count": 6,
   "metadata": {},
   "outputs": [
    {
     "name": "stdout",
     "output_type": "stream",
     "text": [
      "Dictionnaire hashable :\n",
      "{'a': 1, 'b': 2, 'c': 3}\n",
      "\n",
      "Les clés doivent être hashable :\n",
      "unhashable type: 'list'\n",
      "\n",
      "Propriétés des dictionnaires :\n",
      "Keys : dict_keys(['a', 'b', 'c'])\n",
      "Values : dict_values([1, 2, 3])\n",
      "Items : dict_items([('a', 1), ('b', 2), ('c', 3)])\n"
     ]
    }
   ],
   "source": [
    "d = {'a' : 1, 'b' : 2, 'c' : 3} # Dictionnaire hashable\n",
    "print('Dictionnaire hashable :')\n",
    "print(d)\n",
    "\n",
    "# Les clés dovient être hashable\n",
    "print('\\nLes clés doivent être hashable :')\n",
    "try :\n",
    "    d_unhashable = {[1, 2, 3] : 1, [4, 5, 6] : 2}\n",
    "except TypeError as e:\n",
    "    print(e)\n",
    "\n",
    "# Propriétés des dictionnaires\n",
    "print('\\nPropriétés des dictionnaires :')\n",
    "print('Keys :', d.keys())\n",
    "print('Values :', d.values())\n",
    "print('Items :', d.items())\n"
   ]
  },
  {
   "attachments": {},
   "cell_type": "markdown",
   "metadata": {},
   "source": [
    "### Set\n",
    "\n",
    "Les principales propriétés des set sont les suivantes :\n",
    "- Un dictionnaire avec que des clés.\n",
    "- Rend les éléments uniques"
   ]
  },
  {
   "cell_type": "code",
   "execution_count": 7,
   "metadata": {},
   "outputs": [
    {
     "name": "stdout",
     "output_type": "stream",
     "text": [
      "\n",
      "Type : <class 'set'>\n",
      "\n",
      "Rend les éléments uniques :\n",
      "{1, 2, 3, 4, 5}\n"
     ]
    }
   ],
   "source": [
    "u = {1, 2, 3, 4, 5} # Set\n",
    "print('\\nType :', type(u))\n",
    "\n",
    "# Rend les éléments uniques\n",
    "print('\\nRend les éléments uniques :')\n",
    "u = {1,1,1,1,1,2,2,2,3,4,4,5}\n",
    "print(u)\n",
    "\n"
   ]
  },
  {
   "attachments": {},
   "cell_type": "markdown",
   "metadata": {},
   "source": [
    "# Classes\n",
    "\n",
    "Python est un langage orienté objet. Il est donc possible de créer des classes.\n",
    "\n",
    "Voici quelques unes des méthodes `magiques` des classes python sont les suivanets :\n",
    "- `__new__` : qui est le constructeur de la classe\n",
    "- `__init__` : initialisateur de classe qui peut prendre des paramètres\n",
    "- `__repr__` : qui retourne une représentation de la classe\n"
   ]
  },
  {
   "cell_type": "code",
   "execution_count": 8,
   "metadata": {},
   "outputs": [
    {
     "name": "stdout",
     "output_type": "stream",
     "text": [
      "Constructeur\n",
      "Initialisation\n",
      "A : [1, 2, 3, 4, 5]\n"
     ]
    }
   ],
   "source": [
    "class A:\n",
    "    def __new__(cls, a):\n",
    "        print('Constructeur')\n",
    "        return super().__new__(cls)\n",
    "    def __init__(self, a):\n",
    "        print('Initialisation')\n",
    "        self.a = a\n",
    "    def __repr__(self):\n",
    "        return str('A : ' + str(self.a))\n",
    "    def __next__(self):\n",
    "        self.i += 1\n",
    "        return self.a[self.i]\n",
    "    def __iter__(self):\n",
    "        return self.a\n",
    "    \n",
    "a = A([1, 2, 3, 4, 5])\n",
    "\n",
    "print(repr(a))"
   ]
  },
  {
   "attachments": {},
   "cell_type": "markdown",
   "metadata": {},
   "source": [
    "## Propriétés\n",
    "\n",
    "Il est possible de créer des propriétés dans une classe. Pour cela, il faut utiliser les décorateurs `@property`"
   ]
  },
  {
   "cell_type": "code",
   "execution_count": 14,
   "metadata": {},
   "outputs": [],
   "source": [
    "class Shape:\n",
    "    def __init__(self, x, y, color):\n",
    "        self.x = x\n",
    "        self.y = y\n",
    "        self._color = color\n",
    "\n",
    "    def area(self):\n",
    "        return 42\n",
    "\n",
    "    def move(self, dx, dy):\n",
    "        self.x += dx\n",
    "        self.y += dy\n",
    "\n",
    "    # On ne fait pas ça en python :\n",
    "    def getColor(self):\n",
    "        return self._color\n",
    "\n",
    "    # On fait ça en python :\n",
    "    @property\n",
    "    def color(self):\n",
    "        return self._color\n",
    "\n",
    "\n",
    "class Circle(Shape):  # Circle hérite de Shape\n",
    "    def __init__(self, radius, x, y, color):\n",
    "        # Appel du constructeur de Shape (parent) avec  le mot clé super()\n",
    "        super().__init__(x, y, color)\n",
    "        self._radius = radius\n",
    "\n",
    "    def _compute_area(self):\n",
    "        self.area = 3.14 * self.radius**2\n",
    "\n",
    "    # Getter de radius\n",
    "    @property\n",
    "    def radius(self):\n",
    "        return self._radius\n",
    "\n",
    "    # Setter de radius\n",
    "    @radius.setter\n",
    "    def radius(self, value):\n",
    "        if value < 0:\n",
    "            raise ValueError(\"Radius cannot be negative\")\n",
    "        self._radius = value\n",
    "        self._compute_area()"
   ]
  },
  {
   "attachments": {},
   "cell_type": "markdown",
   "metadata": {},
   "source": [
    "# Ouvrir, lire et fermer des fichiers\n",
    "\n",
    "Les différentes méthodes utiles à la gestion des fichiers :\n",
    "- `open(filename, 'r')` : ouvre un fichier en lecture\n",
    "- `open(filename, 'w')` : ouvre un fichier en écriture\n",
    "- `read()` : lis tout le fichier\n",
    "- `readline()` : lis la prochaine ligne\n",
    "- `readlines()` : lis toutes les lignes\n",
    "- `close()` : ferme le fichier"
   ]
  },
  {
   "cell_type": "code",
   "execution_count": 9,
   "metadata": {},
   "outputs": [
    {
     "name": "stdout",
     "output_type": "stream",
     "text": [
      "{\n",
      "\n",
      " \"cells\": [\n",
      "\n"
     ]
    }
   ],
   "source": [
    "fp = open('resume_semestre.ipynb', 'r') # 'w', 'a'\n",
    "\n",
    "print(fp.readline()) # Lis la prochaine ligne\n",
    "print(fp.readline()) # Lis la prochaine ligne\n",
    "\n",
    "fp.close()"
   ]
  },
  {
   "attachments": {},
   "cell_type": "markdown",
   "metadata": {},
   "source": [
    "# Surcharge d'opérateurs\n",
    "\n",
    "Toutes les surcharges d'opérateurs sont disponibles dans le [data model python](https://docs.python.org/3/reference/datamodel.html#), mais pour les opérateurs numériques, on peut se référer à la [section sur les opérateurs numériques](https://docs.python.org/3/reference/datamodel.html#emulating-numeric-types)\n",
    "\n",
    "### Exemple 1"
   ]
  },
  {
   "cell_type": "code",
   "execution_count": 1,
   "metadata": {},
   "outputs": [
    {
     "data": {
      "text/plain": [
       "9"
      ]
     },
     "execution_count": 1,
     "metadata": {},
     "output_type": "execute_result"
    }
   ],
   "source": [
    "class Number:\n",
    "    def __init__(self, number):\n",
    "        self.number = number\n",
    "    def __add__(self, n) :\n",
    "        return self.number + n\n",
    "    def __sub__(self, n) :\n",
    "        return self.number - n\n",
    "    def __mul__(self, n) :\n",
    "        return self.number * n\n",
    "    def __floordiv__(self, n) : # //\n",
    "        return self.number / n\n",
    "    def __truediv__(self, n): # /\n",
    "        return self.number / n\n",
    "\n",
    "n = Number(42)\n",
    "\n",
    "n - 33"
   ]
  },
  {
   "cell_type": "code",
   "execution_count": 2,
   "metadata": {},
   "outputs": [
    {
     "data": {
      "text/plain": [
       "420"
      ]
     },
     "execution_count": 2,
     "metadata": {},
     "output_type": "execute_result"
    }
   ],
   "source": [
    "n*10"
   ]
  },
  {
   "attachments": {},
   "cell_type": "markdown",
   "metadata": {},
   "source": [
    "Attention, ici le type retourné est un `int` et non un `Number`.\n",
    "\n",
    "### Exemple 2"
   ]
  },
  {
   "cell_type": "code",
   "execution_count": 6,
   "metadata": {},
   "outputs": [
    {
     "data": {
      "text/plain": [
       "42"
      ]
     },
     "execution_count": 6,
     "metadata": {},
     "output_type": "execute_result"
    }
   ],
   "source": [
    "class Number:\n",
    "   def __init__(self, number):\n",
    "       self.number = number\n",
    "   def __add__(self, n) :\n",
    "       return Number(self.number + n)\n",
    "   def __repr__(self):\n",
    "       return str(self.number)\n",
    "   \n",
    "n = Number(42)\n",
    "n"
   ]
  },
  {
   "cell_type": "code",
   "execution_count": 7,
   "metadata": {},
   "outputs": [
    {
     "data": {
      "text/plain": [
       "42"
      ]
     },
     "execution_count": 7,
     "metadata": {},
     "output_type": "execute_result"
    }
   ],
   "source": [
    "Number(42)"
   ]
  },
  {
   "attachments": {},
   "cell_type": "markdown",
   "metadata": {},
   "source": [
    "Ici, on utilise `__repr__` pour afficher un `Number` comme un `int`.\n",
    "\n",
    "### Exemple 3\n"
   ]
  },
  {
   "cell_type": "code",
   "execution_count": 11,
   "metadata": {},
   "outputs": [
    {
     "data": {
      "text/plain": [
       "Fstring : Number(42)"
      ]
     },
     "execution_count": 11,
     "metadata": {},
     "output_type": "execute_result"
    }
   ],
   "source": [
    "class Number:\n",
    "    def __init__(self, number):\n",
    "        self.number = number\n",
    "    def __add__(self, n) :\n",
    "        return Number(self.number + n)\n",
    "    def __repr__(self):\n",
    "        return f\"Fstring : Number({self.number})\"\n",
    "    \n",
    "Number(42)"
   ]
  },
  {
   "attachments": {},
   "cell_type": "markdown",
   "metadata": {},
   "source": [
    "On utilise ici une `f-string` pour afficher un `Number` comme on le souhaite.\n",
    "\n",
    "### Exemple 4"
   ]
  },
  {
   "cell_type": "code",
   "execution_count": 14,
   "metadata": {},
   "outputs": [
    {
     "name": "stdout",
     "output_type": "stream",
     "text": [
      "42\n"
     ]
    }
   ],
   "source": [
    "class Number:\n",
    "    def __init__(self, number):\n",
    "        self.number = number\n",
    "    def __add__(self, n) :\n",
    "        return Number(self.number + n)\n",
    "    def __repr__(self):\n",
    "        return f\"Number({self.number})\"\n",
    "    def __str__(self) :\n",
    "        return str(self.number)\n",
    "\n",
    "print(Number(42))"
   ]
  },
  {
   "cell_type": "code",
   "execution_count": 16,
   "metadata": {},
   "outputs": [
    {
     "data": {
      "text/plain": [
       "Number(42)"
      ]
     },
     "execution_count": 16,
     "metadata": {},
     "output_type": "execute_result"
    }
   ],
   "source": [
    "Number(42)"
   ]
  },
  {
   "attachments": {},
   "cell_type": "markdown",
   "metadata": {},
   "source": [
    "Finalement on peut voir la différence entre `__repr__` et `__str__` ci-dessus.\n",
    "\n",
    "### Exemple 5"
   ]
  },
  {
   "cell_type": "code",
   "execution_count": 17,
   "metadata": {},
   "outputs": [
    {
     "data": {
      "text/plain": [
       "Number(75)"
      ]
     },
     "execution_count": 17,
     "metadata": {},
     "output_type": "execute_result"
    }
   ],
   "source": [
    "n + 33"
   ]
  },
  {
   "cell_type": "code",
   "execution_count": 19,
   "metadata": {},
   "outputs": [
    {
     "name": "stdout",
     "output_type": "stream",
     "text": [
      "unsupported operand type(s) for +: 'int' and 'Number'\n"
     ]
    }
   ],
   "source": [
    "try :\n",
    "    33 + n\n",
    "except TypeError as e:\n",
    "    print(e)"
   ]
  },
  {
   "attachments": {},
   "cell_type": "markdown",
   "metadata": {},
   "source": [
    "### Exemple 6"
   ]
  },
  {
   "cell_type": "code",
   "execution_count": 30,
   "metadata": {},
   "outputs": [],
   "source": [
    "class Number:\n",
    "    def __init__(self, number):\n",
    "        self.number = number\n",
    "    def __add__(self, n) :\n",
    "        print(\"Add\")\n",
    "        return Number(self.number + n)\n",
    "    def __radd__(self, n):\n",
    "        print(\"Radd\")\n",
    "        return self + n # utilisation de la surcharge déjà faite auparavant\n",
    "    def __repr__(self):\n",
    "        return f\"Number({self.number})\"\n",
    "    def __str__(self) :\n",
    "        return str(self.number)\n",
    "    \n",
    "n = Number(42)"
   ]
  },
  {
   "cell_type": "code",
   "execution_count": 31,
   "metadata": {},
   "outputs": [
    {
     "name": "stdout",
     "output_type": "stream",
     "text": [
      "Add\n"
     ]
    },
    {
     "data": {
      "text/plain": [
       "Number(75)"
      ]
     },
     "execution_count": 31,
     "metadata": {},
     "output_type": "execute_result"
    }
   ],
   "source": [
    "n + 33"
   ]
  },
  {
   "cell_type": "code",
   "execution_count": 32,
   "metadata": {},
   "outputs": [
    {
     "name": "stdout",
     "output_type": "stream",
     "text": [
      "Radd\n",
      "Add\n"
     ]
    },
    {
     "data": {
      "text/plain": [
       "Number(75)"
      ]
     },
     "execution_count": 32,
     "metadata": {},
     "output_type": "execute_result"
    }
   ],
   "source": [
    "33 + n"
   ]
  },
  {
   "attachments": {},
   "cell_type": "markdown",
   "metadata": {},
   "source": [
    "Ici on surcharge `__radd__` pour que l'opérateur `+` soit associatif. Afin de simplifier le code on utilise la surcharge déjà faite auparavant dans `__radd__`."
   ]
  },
  {
   "attachments": {},
   "cell_type": "markdown",
   "metadata": {},
   "source": [
    "# Opérateurs\n",
    "\n",
    "### Opérateurs fonctionnels pour **tous** les conteneurs de données"
   ]
  },
  {
   "cell_type": "code",
   "execution_count": 33,
   "metadata": {},
   "outputs": [
    {
     "data": {
      "text/plain": [
       "{3, 5}"
      ]
     },
     "execution_count": 33,
     "metadata": {},
     "output_type": "execute_result"
    }
   ],
   "source": [
    "{2, 3, 4, 5} - {2,4}"
   ]
  },
  {
   "cell_type": "code",
   "execution_count": 36,
   "metadata": {},
   "outputs": [
    {
     "data": {
      "text/plain": [
       "{5, 6}"
      ]
     },
     "execution_count": 36,
     "metadata": {},
     "output_type": "execute_result"
    }
   ],
   "source": [
    "{2,3,4,5,6}^{2,3,4} # garde uniquement les éléments qui ne sont pas dans les deux sets (XOR)"
   ]
  },
  {
   "attachments": {},
   "cell_type": "markdown",
   "metadata": {},
   "source": [
    "### Opérateur `all`"
   ]
  },
  {
   "cell_type": "code",
   "execution_count": 38,
   "metadata": {},
   "outputs": [
    {
     "data": {
      "text/plain": [
       "True"
      ]
     },
     "execution_count": 38,
     "metadata": {},
     "output_type": "execute_result"
    }
   ],
   "source": [
    "all((1,2,3,4))"
   ]
  },
  {
   "cell_type": "code",
   "execution_count": 40,
   "metadata": {},
   "outputs": [
    {
     "data": {
      "text/plain": [
       "False"
      ]
     },
     "execution_count": 40,
     "metadata": {},
     "output_type": "execute_result"
    }
   ],
   "source": [
    "all((1,2,3,4,0))"
   ]
  },
  {
   "cell_type": "code",
   "execution_count": 46,
   "metadata": {},
   "outputs": [
    {
     "data": {
      "text/plain": [
       "False"
      ]
     },
     "execution_count": 46,
     "metadata": {},
     "output_type": "execute_result"
    }
   ],
   "source": [
    "any((0,0,0,0,0))"
   ]
  },
  {
   "cell_type": "code",
   "execution_count": 48,
   "metadata": {},
   "outputs": [
    {
     "data": {
      "text/plain": [
       "True"
      ]
     },
     "execution_count": 48,
     "metadata": {},
     "output_type": "execute_result"
    }
   ],
   "source": [
    "any((0,0,0,0,1))"
   ]
  },
  {
   "attachments": {},
   "cell_type": "markdown",
   "metadata": {},
   "source": [
    "### Swapper"
   ]
  },
  {
   "cell_type": "code",
   "execution_count": 50,
   "metadata": {},
   "outputs": [
    {
     "data": {
      "text/plain": [
       "2"
      ]
     },
     "execution_count": 50,
     "metadata": {},
     "output_type": "execute_result"
    }
   ],
   "source": [
    "a = 1\n",
    "b = 2\n",
    "\n",
    "a, b = b, a\n",
    "\n",
    "a"
   ]
  },
  {
   "cell_type": "code",
   "execution_count": 51,
   "metadata": {},
   "outputs": [
    {
     "data": {
      "text/plain": [
       "1"
      ]
     },
     "execution_count": 51,
     "metadata": {},
     "output_type": "execute_result"
    }
   ],
   "source": [
    "b"
   ]
  },
  {
   "attachments": {},
   "cell_type": "markdown",
   "metadata": {},
   "source": [
    "### Enumerate"
   ]
  },
  {
   "cell_type": "code",
   "execution_count": 54,
   "metadata": {},
   "outputs": [
    {
     "data": {
      "text/plain": [
       "[(0, 3), (1, 2), (2, 5), (3, 6)]"
      ]
     },
     "execution_count": 54,
     "metadata": {},
     "output_type": "execute_result"
    }
   ],
   "source": [
    "l = [3,2,5,6]\n",
    "\n",
    "list(enumerate(l))"
   ]
  },
  {
   "cell_type": "code",
   "execution_count": 56,
   "metadata": {},
   "outputs": [
    {
     "name": "stdout",
     "output_type": "stream",
     "text": [
      "i=0, v=3\n",
      "i=1, v=2\n",
      "i=2, v=5\n",
      "i=3, v=6\n"
     ]
    }
   ],
   "source": [
    "l = [3,2,5,6]\n",
    "\n",
    "for i, v in enumerate(l) :\n",
    "    print(f\"i={i}, v={v}\")  "
   ]
  },
  {
   "attachments": {},
   "cell_type": "markdown",
   "metadata": {},
   "source": [
    "### Zip\n"
   ]
  },
  {
   "cell_type": "code",
   "execution_count": 58,
   "metadata": {},
   "outputs": [
    {
     "data": {
      "text/plain": [
       "[('John', 'Doe'), ('Jane', 'Doe'), ('Jack', 'Black')]"
      ]
     },
     "execution_count": 58,
     "metadata": {},
     "output_type": "execute_result"
    }
   ],
   "source": [
    "firstnames = ['John', 'Jane', 'Jack']\n",
    "lastnames = ['Doe', 'Doe', 'Black']\n",
    "\n",
    "list(zip(firstnames, lastnames))"
   ]
  },
  {
   "cell_type": "code",
   "execution_count": 59,
   "metadata": {},
   "outputs": [
    {
     "data": {
      "text/plain": [
       "['John Doe', 'Jane Doe', 'Jack Black']"
      ]
     },
     "execution_count": 59,
     "metadata": {},
     "output_type": "execute_result"
    }
   ],
   "source": [
    "[' '.join(x) for x in list(zip(firstnames, lastnames))]"
   ]
  },
  {
   "attachments": {},
   "cell_type": "markdown",
   "metadata": {},
   "source": [
    "### Opérateur de déréférencement * et **"
   ]
  },
  {
   "cell_type": "code",
   "execution_count": 62,
   "metadata": {},
   "outputs": [],
   "source": [
    "def operate(a,b, **kwargs):\n",
    "    if 'add' in kwargs:\n",
    "            print(f\"{a}+{b}={a+b}\")\n",
    "    if 'sub' in kwargs:\n",
    "            print(f\"{a}-{b}={a-b}\")\n",
    "\n",
    "operate(23, 42)"
   ]
  },
  {
   "cell_type": "code",
   "execution_count": 64,
   "metadata": {},
   "outputs": [
    {
     "name": "stdout",
     "output_type": "stream",
     "text": [
      "23+42=65\n"
     ]
    }
   ],
   "source": [
    "operate(23, 42, add=True)"
   ]
  },
  {
   "cell_type": "code",
   "execution_count": 65,
   "metadata": {},
   "outputs": [
    {
     "name": "stdout",
     "output_type": "stream",
     "text": [
      "23+42=65\n",
      "23-42=-19\n"
     ]
    }
   ],
   "source": [
    "operate(23, 42, add=True, sub=True)"
   ]
  },
  {
   "attachments": {},
   "cell_type": "markdown",
   "metadata": {},
   "source": [
    "L'opérateur `*` permet de déréférencer une liste ou un tuple. Il permet de passer les éléments d'une liste ou d'un tuple comme paramètres d'une fonction.\n",
    "\n",
    "Pour une liste : `l = [1,2,3,4]`, si on donne comme argument `*l`, alors on aura comme argument `1,2,3,4` et donc c'est la liste sans les corchets donc 5 éléments"
   ]
  },
  {
   "cell_type": "code",
   "execution_count": 78,
   "metadata": {},
   "outputs": [
    {
     "data": {
      "text/plain": [
       "[1, 2, 3, 4, 5]"
      ]
     },
     "execution_count": 78,
     "metadata": {},
     "output_type": "execute_result"
    }
   ],
   "source": [
    "l = [1,2,3,4,5]\n",
    "\n",
    "def toto(*args, **kwargs) :\n",
    "    print(\"Args\", args)\n",
    "    print(\"Kwargs\", kwargs)\n",
    "\n",
    "l"
   ]
  },
  {
   "cell_type": "code",
   "execution_count": 80,
   "metadata": {},
   "outputs": [
    {
     "name": "stdout",
     "output_type": "stream",
     "text": [
      "Args (1, 2, 3, 4, 5, 'salut', 4, 1, 2, 3, 4, 5)\n",
      "Kwargs {}\n"
     ]
    }
   ],
   "source": [
    "toto(*l, \"salut\", 4, *l)"
   ]
  },
  {
   "cell_type": "code",
   "execution_count": 81,
   "metadata": {},
   "outputs": [
    {
     "name": "stdout",
     "output_type": "stream",
     "text": [
      "Args (1, 2, 3, 4, 5, 'salut', 4, 1, 2, 3, 4, 5)\n",
      "Kwargs {'a': 1, 'b': 2}\n"
     ]
    }
   ],
   "source": [
    "toto(*l, \"salut\", 4, *l, a=1, b=2)"
   ]
  },
  {
   "attachments": {},
   "cell_type": "markdown",
   "metadata": {},
   "source": [
    "# Yield return\n",
    "\n",
    "Le `yield` permet de retourner une valeur et de mettre la fonction en pause. Lorsque la fonction est appelée à nouveau, elle reprend là où elle s'était arrêtée.    "
   ]
  },
  {
   "cell_type": "code",
   "execution_count": 69,
   "metadata": {},
   "outputs": [
    {
     "data": {
      "text/plain": [
       "<generator object foo at 0x7ffb84050580>"
      ]
     },
     "execution_count": 69,
     "metadata": {},
     "output_type": "execute_result"
    }
   ],
   "source": [
    "def foo():\n",
    "    i = 0\n",
    "    while True :\n",
    "        i += 1\n",
    "        yield i\n",
    "\n",
    "foo()"
   ]
  },
  {
   "cell_type": "code",
   "execution_count": 71,
   "metadata": {},
   "outputs": [
    {
     "data": {
      "text/plain": [
       "1"
      ]
     },
     "execution_count": 71,
     "metadata": {},
     "output_type": "execute_result"
    }
   ],
   "source": [
    "next(foo())"
   ]
  },
  {
   "cell_type": "code",
   "execution_count": 73,
   "metadata": {},
   "outputs": [
    {
     "data": {
      "text/plain": [
       "1"
      ]
     },
     "execution_count": 73,
     "metadata": {},
     "output_type": "execute_result"
    }
   ],
   "source": [
    "next(foo())"
   ]
  },
  {
   "cell_type": "code",
   "execution_count": 74,
   "metadata": {},
   "outputs": [],
   "source": [
    "g = foo()"
   ]
  },
  {
   "cell_type": "code",
   "execution_count": 75,
   "metadata": {},
   "outputs": [
    {
     "data": {
      "text/plain": [
       "1"
      ]
     },
     "execution_count": 75,
     "metadata": {},
     "output_type": "execute_result"
    }
   ],
   "source": [
    "next(g)"
   ]
  },
  {
   "attachments": {},
   "cell_type": "markdown",
   "metadata": {},
   "source": [
    "# Named Tuple\n",
    "\n",
    "Les `namedtuple` sont des tuples qui ont des noms. Ils sont donc plus faciles à utiliser que les tuples classiques.\t"
   ]
  },
  {
   "cell_type": "code",
   "execution_count": 87,
   "metadata": {},
   "outputs": [
    {
     "data": {
      "text/plain": [
       "'a'"
      ]
     },
     "execution_count": 87,
     "metadata": {},
     "output_type": "execute_result"
    }
   ],
   "source": [
    "from collections import namedtuple\n",
    "\n",
    "Type = namedtuple('TypeName', ('field1', 'field2'))\n",
    "t = Type('a', 'b')\n",
    "t[0]"
   ]
  },
  {
   "cell_type": "code",
   "execution_count": 85,
   "metadata": {},
   "outputs": [
    {
     "data": {
      "text/plain": [
       "'a'"
      ]
     },
     "execution_count": 85,
     "metadata": {},
     "output_type": "execute_result"
    }
   ],
   "source": [
    "t.field1"
   ]
  },
  {
   "attachments": {},
   "cell_type": "markdown",
   "metadata": {},
   "source": [
    "# Numpy"
   ]
  },
  {
   "cell_type": "code",
   "execution_count": 97,
   "metadata": {},
   "outputs": [
    {
     "name": "stdout",
     "output_type": "stream",
     "text": [
      "Column vector :\n",
      " [[1]\n",
      " [2]\n",
      " [3]\n",
      " [4]\n",
      " [5]]\n",
      "Broadcasted :\n",
      " [[1. 1. 1. 1. 1.]\n",
      " [2. 2. 2. 2. 2.]\n",
      " [3. 3. 3. 3. 3.]\n",
      " [4. 4. 4. 4. 4.]\n",
      " [5. 5. 5. 5. 5.]]\n"
     ]
    }
   ],
   "source": [
    "import numpy as np\n",
    "a = np.arange(1, 6) # [1,2,3,4,5]\n",
    "b = np.ones(5) # [1,1,1,1,1]\n",
    "\n",
    "a2 = a[:, None]\n",
    "print('Column vector :\\n',a2)\n",
    "broadcasted = a2 * b \n",
    "print('Broadcasted :\\n',broadcasted)"
   ]
  },
  {
   "attachments": {},
   "cell_type": "markdown",
   "metadata": {},
   "source": [
    "# Software Design Principles\n",
    "\n",
    "Un principe de conception est une règle gnérale qui guide le développement d'un logiciel. Il est souvent exprimé sous forme de phrase, et peut être utilisé pour évaluer la qualité d'un logiciel.\n",
    "\n",
    "- [x] SSOT\n",
    "- [x] SOLID\n",
    "- [x] KISS\n",
    "- [x] DRY/WET\n",
    "- [x] YAGNI\n",
    "\n",
    "## SSOT (Single Source of Truth)\n",
    "\n",
    "La règle du SSOT s'applique aux données et pas à la redondance du code. Elle stipule que les données doivent être stockées dans un seul endroit. Si une donnée doit être modifiée, elle doit être modifiée dans un seul endroit.\n",
    "\n",
    "Mauvais exemple :\n",
    "\n",
    "```python\n",
    "equipageDes42MillesEtUneNuits = {\n",
    "\"capitaine\" : 42, # Le capitaine a 42 ans\n",
    "\"moussailon\" : 42,\n",
    "\"machininiste\" : 42\n",
    "}\n",
    "```\n",
    "\n",
    "Bon exemple :\n",
    "\n",
    "```python\n",
    "ageEquipage = 42\n",
    "\n",
    "equipageDes42MillesEtUneNuits = {\n",
    "\"capitaine\" : ageEquipage,# Le capitaine a un certain age\n",
    "\"moussailon\" : ageEquipage,\n",
    "\"machininiste\" : ageEquipage\n",
    "}\n",
    "```\n",
    "\n",
    "### DRY (Don't Repeat Yourself)\n",
    "\n",
    "Le contraire est le WET (Write Everything Twice).\n",
    "\n",
    "Exemple de code WET :\n",
    "\n",
    "```python\n",
    "def calculerSomme(liste):\n",
    "    somme = 0\n",
    "    for element in liste:\n",
    "        somme += element\n",
    "    return somme\n",
    "\n",
    "sommePommes = calculerSomme(liste[pommes])\n",
    "sommePoires = calculerSomme(liste[poires])\n",
    "sommeBananes = calculerSomme(liste[bananes])\n",
    "```\n",
    "\n",
    "Une meilleure solution :\n",
    "\n",
    "```python\n",
    "sommes = {}\n",
    "for key, values in liste.items():\n",
    "    sommes[key] = calculerSomme(values)\n",
    "```\n",
    "\n",
    "Et avec une compréhension :\n",
    "\n",
    "```python\n",
    "sommes = {key: calculerSomme(values) for key, values in liste.items()}\n",
    "```\n",
    "\n",
    "### KISS (Keep It Simple, Stupid)\n",
    "\n",
    "Une fonction ça devrait entre 10 lignes et un écran. Si c'est plus compliqué, c'est qu'il y a un problème.\n",
    "\n",
    "### YAGNI (You Ain't Gonna Need It)\n",
    "\n",
    "Ne pas coder des fonctionnalités qui ne sont pas nécessaires. C'est une bonne règle pour éviter de coder des fonctionnalités qui ne seront jamais utilisées.\n",
    "\n",
    "Par exemple le gars qui a construit le moteur d'avion sur l'image ci-dessous n'a pas suivi cette règle. Il a installé une selle dessus parce qu'il se disait que ça pourrait être utile un jour, mais ca n'a jamais été utilisé :\n",
    "\n",
    "![YAGNI](https://res.cloudinary.com/practicaldev/image/fetch/s--u53Aunfr--/c_limit%2Cf_auto%2Cfl_progressive%2Cq_auto%2Cw_880/https://dev-to-uploads.s3.amazonaws.com/uploads/articles/tq3ggyimlj9h32ektgrx.png)\n",
    "\n",
    "# Pipenv\n",
    "\n",
    "C'est pour avoir une sorte de bac à sable ou l'on peut installer des packages python sans les installer globalement sur son ordinateur.\n",
    "\n",
    "## Création d'un environnement virtuel\n",
    "\n",
    "**Pour créer un enivronnement on utilise la commande : `python3 -mvenv venv`**\n",
    "\n",
    "Exemple :\n",
    "\n",
    "```bash\n",
    "➜  projet git:(master) ✗ python3 -mvenv venv\n",
    "➜  projet git:(master) ✗ ls -a\n",
    ".  ..  __init__.py  __main__.py  venv\n",
    "➜  projet git:(master) ✗ ls -la\n",
    "total 0\n",
    "drwxrwxrwx 1 arnaud-maillard1 arnaud-maillard1 4096 Apr 18 11:15 .\n",
    "drwxrwxrwx 1 arnaud-maillard1 arnaud-maillard1 4096 Apr 18 11:04 ..\n",
    "-rwxrwxrwx 1 arnaud-maillard1 arnaud-maillard1   44 Apr 18 11:06 __init__.py\n",
    "-rwxrwxrwx 1 arnaud-maillard1 arnaud-maillard1   35 Apr 18 11:08 __main__.py\n",
    "drwxrwxrwx 1 arnaud-maillard1 arnaud-maillard1 4096 Apr 18 11:19 venv\n",
    "```\n",
    "\n",
    "## Activation de l'environnement virtuel\n",
    "\n",
    "**Pour activer l'environnement virtuel on utilise la commande : `source venv/bin/activate`**\n",
    "\n",
    "Exemple :\n",
    "\n",
    "```bash\n",
    "➜  projet git:(master) ✗ source venv/bin/activate\n",
    "(venv) ➜  projet git:(master) ✗ which python3\n",
    "/mnt/c/Users/arnau/OneDrive/Documents/HEIGVD/Semestre_6/Python/diary_perso_python/8/projet/venv/bin/python3\n",
    "(venv) ➜  projet git:(master) ✗ deactivate\n",
    "➜  projet git:(master) ✗ which python3\n",
    "/usr/bin/python3\n",
    "➜  projet git:(master) ✗\n",
    "```\n",
    "\n",
    "## Installation de packages\n",
    "\n",
    "**Pour installer un package on utilise la commande : `pip install <package>` lorsqu'on a déjà activé l'environnement**\n",
    "\n",
    "Exemple :\n",
    "\n",
    "```bash\n",
    "(venv) ➜  projet git:(master) ✗ pip install autopep8\n",
    "Collecting autopep8\n",
    "  Downloading autopep8-2.0.2-py2.py3-none-any.whl (45 kB)\n",
    "     |████████████████████████████████| 45 kB 944 kB/s\n",
    "Collecting pycodestyle>=2.10.0\n",
    "  Using cached pycodestyle-2.10.0-py2.py3-none-any.whl (41 kB)\n",
    "Collecting tomli; python_version < \"3.11\"\n",
    "  Using cached tomli-2.0.1-py3-none-any.whl (12 kB)\n",
    "Installing collected packages: pycodestyle, tomli, autopep8\n",
    "Successfully installed autopep8-2.0.2 pycodestyle-2.10.0 tomli-2.0.1\n",
    "(venv) ➜  projet git:(master) ✗ pip list\n",
    "Package       Version\n",
    "------------- -------\n",
    "autopep8      2.0.2\n",
    "numpy         1.24.2\n",
    "pip           20.0.2\n",
    "pkg-resources 0.0.0\n",
    "pycodestyle   2.10.0\n",
    "scipy         1.10.1\n",
    "setuptools    44.0.0\n",
    "tomli         2.0.1\n",
    "(venv) ➜  projet git:(master) ✗\n",
    "```"
   ]
  },
  {
   "attachments": {},
   "cell_type": "markdown",
   "metadata": {},
   "source": [
    "# Pint\n",
    "\n",
    "C'est une librairie python qui permet de faire des conversions de unités. Par exemple :\n"
   ]
  },
  {
   "cell_type": "code",
   "execution_count": 98,
   "metadata": {},
   "outputs": [
    {
     "name": "stdout",
     "output_type": "stream",
     "text": [
      "10000.0 meter\n"
     ]
    }
   ],
   "source": [
    "from pint import UnitRegistry\n",
    "ureg = UnitRegistry()\n",
    "distance = 10 * ureg.kilometer\n",
    "print(distance.to(ureg.meter))"
   ]
  },
  {
   "attachments": {},
   "cell_type": "markdown",
   "metadata": {},
   "source": [
    "# Debugger python\n",
    "\n",
    "On a une erreur dans notre code et on aimerait debugger :\n",
    "\n",
    "```bash\n",
    "(venv) ➜  projet git:(master) ✗ python3 -mhello\n",
    "Hello world !\n",
    "Traceback (most recent call last):\n",
    "  File \"/usr/lib/python3.8/runpy.py\", line 194, in _run_module_as_main\n",
    "    return _run_code(code, main_globals, None,\n",
    "  File \"/usr/lib/python3.8/runpy.py\", line 87, in _run_code\n",
    "    exec(code, run_globals)\n",
    "  File \"/mnt/c/Users/arnau/OneDrive/Documents/HEIGVD/Semestre_6/Python/diary_perso_python/8/projet/hello/__main__.py\", line 3, in <module>\n",
    "    sayHello()\n",
    "  File \"/mnt/c/Users/arnau/OneDrive/Documents/HEIGVD/Semestre_6/Python/diary_perso_python/8/projet/hello/__init__.py\", line 7, in sayHello\n",
    "    i = i/0\n",
    "ZeroDivisionError: division by zero\n",
    "(venv) ➜  projet git:(master) ✗ ipython\n",
    "/home/arnaud-maillard1/.local/lib/python3.8/site-packages/IPython/core/interactiveshell.py:882: UserWarning: Attempting to work in a virtualenv. If you encounter problems, please install IPython inside the virtualenv.\n",
    "  warn(\n",
    "Python 3.8.10 (default, Mar 13 2023, 10:26:41)\n",
    "Type 'copyright', 'credits' or 'license' for more information\n",
    "IPython 8.6.0 -- An enhanced Interactive Python. Type '?' for help.\n",
    "\n",
    "In [1]: import hello\n",
    "\n",
    "In [2]: hello.sayHello\n",
    "Out[2]: <function hello.sayHello()>\n",
    "\n",
    "In [3]: hello.sayHello()\n",
    "Hello world !\n",
    "---------------------------------------------------------------------------\n",
    "ZeroDivisionError                         Traceback (most recent call last)\n",
    "Cell In [3], line 1\n",
    "----> 1 hello.sayHello()\n",
    "\n",
    "File /mnt/c/Users/arnau/OneDrive/Documents/HEIGVD/Semestre_6/Python/diary_perso_python/8/projet/hello/__init__.py:7, in sayHello()\n",
    "      5 i = i+1\n",
    "      6 i = i*10\n",
    "----> 7 i = i/0\n",
    "\n",
    "ZeroDivisionError: division by zero\n",
    "\n",
    "In [4]: %debug\n",
    "> /mnt/c/Users/arnau/OneDrive/Documents/HEIGVD/Semestre_6/Python/diary_perso_python/8/projet/hello/__init__.py(7)sayHello()\n",
    "      3     print(\"Hello world !\")\n",
    "      4     i = 3\n",
    "      5     i = i+1\n",
    "      6     i = i*10\n",
    "----> 7     i = i/0\n",
    "\n",
    "ipdb> u\n",
    "> <ipython-input-3-42affdb2d76d>(1)<module>()\n",
    "----> 1 hello.sayHello()\n",
    "\n",
    "ipdb> d\n",
    "> /mnt/c/Users/arnau/OneDrive/Documents/HEIGVD/Semestre_6/Python/diary_perso_python/8/projet/hello/__init__.py(7)sayHello()\n",
    "      3     print(\"Hello world !\")\n",
    "      4     i = 3\n",
    "      5     i = i+1\n",
    "      6     i = i*10\n",
    "----> 7     i = i/0\n",
    "```\n",
    "\n",
    "On peut naviguer dans le debug avec les commandes suivantes :\n",
    "\n",
    "- `u` pour remonter dans le code\n",
    "- `d` pour descendre dans le code\n",
    "- `n` pour aller à la ligne suivante\n",
    "- `c` pour continuer l'exécution du code\n",
    "- `q` pour quitter le debug\n",
    "- `h` pour afficher l'aide\n",
    "\n",
    "On peut même faire des commandes python dans le debug :\n",
    "\n",
    "```bash\n",
    "In [5]: %debug\n",
    "> /mnt/c/Users/arnau/OneDrive/Documents/HEIGVD/Semestre_6/Python/diary_perso_python/8/projet/hello/__init__.py(7)sayHello()\n",
    "      3     print(\"Hello world !\")\n",
    "      4     i = 3\n",
    "      5     i = i+1\n",
    "      6     i = i*10\n",
    "----> 7     i = i/0\n",
    "ipdb> print(i)\n",
    "40\n",
    "ipdb> i = 50\n",
    "ipdb> print(i)\n",
    "50\n",
    "ipdb>\n",
    "```\n"
   ]
  },
  {
   "attachments": {},
   "cell_type": "markdown",
   "metadata": {},
   "source": [
    "# Pandas\n",
    "\n",
    "C'est une librairie python qui permet de faire des manipulations de données. Un tutoriel est disponible : [LIEN DU TUTORIEL](https://pandas.pydata.org/docs/user_guide/10min.html)\n",
    "\n",
    "# Itertools\n",
    "\n",
    "Fonctions pour créer des itérateurs efficaces.\n",
    "\n",
    "- `product` : produit cartésien\n",
    "- `permutations` : permutations\n",
    "- `combinations` : combinaisons\n",
    "- `combinations_with_replacement` : combinaisons avec remplacement\n",
    "\n",
    "# Functools\n",
    "\n",
    "Pour calculer le n-ième nombre de Fibonacci, on peut utiliser la formule suivante :\n"
   ]
  },
  {
   "cell_type": "code",
   "execution_count": 7,
   "metadata": {},
   "outputs": [
    {
     "name": "stdout",
     "output_type": "stream",
     "text": [
      "Execution time: 0.0019948482513427734 seconds\n"
     ]
    }
   ],
   "source": [
    "import time\n",
    "\n",
    "\n",
    "def fib(n):\n",
    "    if n <= 2 : return 1\n",
    "    return fib(n-1) + fib(n-2)\n",
    "\n",
    "\n",
    "st = time.time()\n",
    "\n",
    "\n",
    "fib(20)\n",
    "\n",
    "\n",
    "et = time.time()\n",
    "elapsed_time = et - st\n",
    "print('Execution time:', elapsed_time, 'seconds')\n"
   ]
  },
  {
   "attachments": {},
   "cell_type": "markdown",
   "metadata": {},
   "source": [
    "Ce qui nous donne un algorithme récursif pas très efficace qui recalculera plusieurs fois les mêmes valeurs.\n",
    "\n",
    "On peut améliorer avec un cache créé à la volée :"
   ]
  },
  {
   "cell_type": "code",
   "execution_count": 8,
   "metadata": {},
   "outputs": [
    {
     "name": "stdout",
     "output_type": "stream",
     "text": [
      "Execution time: 5.078315734863281e-05 seconds\n"
     ]
    }
   ],
   "source": [
    "def fib(n, cache={}):\n",
    "    if n in cache:\n",
    "        return cache[n]\n",
    "    if n < 2:\n",
    "        return n\n",
    "    cache[n] = fib(n-1) + fib(n-2)\n",
    "    return cache[n]\n",
    "\n",
    "st = time.time()\n",
    "\n",
    "\n",
    "fib(20)\n",
    "\n",
    "\n",
    "et = time.time()\n",
    "elapsed_time = et - st\n",
    "print('Execution time:', elapsed_time, 'seconds')"
   ]
  },
  {
   "attachments": {},
   "cell_type": "markdown",
   "metadata": {},
   "source": [
    "Ce qui est déjà mieux, mais on peut faire encore mieux avec le décorateur : `functools.cache` :"
   ]
  },
  {
   "cell_type": "code",
   "execution_count": 9,
   "metadata": {},
   "outputs": [
    {
     "name": "stdout",
     "output_type": "stream",
     "text": [
      "Execution time: 9.322166442871094e-05 seconds\n"
     ]
    }
   ],
   "source": [
    "import functools\n",
    "\n",
    "@functools.lru_cache\n",
    "def fib(n):\n",
    "    if n < 2:\n",
    "        return n\n",
    "    return fib(n-1) + fib(n-2)\n",
    "\n",
    "st = time.time()\n",
    "\n",
    "\n",
    "fib(20)\n",
    "\n",
    "\n",
    "et = time.time()\n",
    "elapsed_time = et - st\n",
    "print('Execution time:', elapsed_time, 'seconds')"
   ]
  },
  {
   "attachments": {},
   "cell_type": "markdown",
   "metadata": {},
   "source": [
    "**La fonction `lru_cache` fait donc ce qui s'appelle de la *mémoïsation*ou de la programmation dynamique.**"
   ]
  },
  {
   "attachments": {},
   "cell_type": "markdown",
   "metadata": {},
   "source": [
    "# Heapq"
   ]
  },
  {
   "cell_type": "code",
   "execution_count": 13,
   "metadata": {},
   "outputs": [
    {
     "name": "stdout",
     "output_type": "stream",
     "text": [
      "Heap 1 : [42]\n",
      "Heap 2 : [23, 42]\n",
      "Heap 3 : [23, 42, 77]\n",
      "Heap 4 : [23, 25, 77, 42]\n"
     ]
    }
   ],
   "source": [
    "import heapq\n",
    "\n",
    "heap = []\n",
    "heapq.heappush(heap, 42)\n",
    "print('Heap 1 :', heap)\n",
    "heapq.heappush(heap, 23)\n",
    "print('Heap 2 :', heap)\n",
    "heapq.heappush(heap, 77)\n",
    "print('Heap 3 :', heap)\n",
    "heapq.heappush(heap, 25)\n",
    "print('Heap 4 :', heap)"
   ]
  },
  {
   "attachments": {},
   "cell_type": "markdown",
   "metadata": {},
   "source": [
    "L'ordre vu comme ceci n'est pas compréhensible, mais si on le voit comme **un arbre binaire**, on comprend mieux :\n",
    "\n",
    "```\n",
    "      23\n",
    "    /    \\\n",
    "          42\n",
    "        /  \\\n",
    "       25   77\n",
    "```\n",
    "\n",
    "Tous les nombre à droite de 23 seront plus grands que 23, et tous les nombres à gauche de 23 seront plus petits que 23."
   ]
  },
  {
   "attachments": {},
   "cell_type": "markdown",
   "metadata": {},
   "source": [
    "# Flask\n",
    "\n",
    "Flask est un framework python pour faire des sites web. Il est très simple à utiliser et très léger.\n",
    "\n",
    "Une exemple avec une arborescence de fichiers comme ceci :\n",
    "\n",
    "```\n",
    "|__ replace_flask.py\n",
    "|__ market.html\n",
    "|__ templates\n",
    "    |__ market_template.html\n",
    "```\n",
    "\n",
    "Et le code de `replace_flask.py` :\n",
    "\n",
    "```python\n",
    "#!/usr/bin/env python3\n",
    "\n",
    "from flask import Flask, render_template\n",
    "\n",
    "\n",
    "app = Flask(__name__)\n",
    "\n",
    "\n",
    "articles = [\n",
    "    {'name': 'ballon', 'variantes': [\n",
    "        {'name': 'foot', 'price': 10}, {'name': 'volley', 'price': 15}]},\n",
    "    {'name': 'raquette', 'variantes': [\n",
    "        {'name': 'tennis', 'price': 20}, {'name': 'badminton', 'price': 25}]},\n",
    "    {'name': 'chaussures', 'variantes': [\n",
    "        {'name': 'rouge', 'price': 30}, {'name': 'bleu', 'price': 35}, {'name': 'vert', 'price': 40}]}\n",
    "]\n",
    "\n",
    "# Render the template\n",
    "@app.route('/')\n",
    "def index():\n",
    "    return render_template('market_template.html', marketName=\"Loulou sport\", articles=articles)\n",
    "\n",
    "\n",
    "if __name__ == '__main__':\n",
    "    app.run(debug=True)\n",
    "\n",
    "```\n",
    "\n",
    "Et le code de `market_template.html` :\n",
    "\n",
    "```html\n",
    "<html>\n",
    "\n",
    "<head>\n",
    "<h1>Bienvenue chez {{marketName}}</h1>\n",
    "</head>\n",
    "\n",
    "<body>\n",
    "\n",
    "Voici les articles disponibles dans notre magasin : <br>\n",
    "\n",
    "<ul>\n",
    "{% for article in articles %}\n",
    "    <li>{{article.name}}\n",
    "        <ul>\n",
    "        {% for variante in article.variantes%} \n",
    "            <li>{{variante.name}}, prix : {{variante.price}}</li>\n",
    "        {% endfor %}\n",
    "        </ul>\n",
    "    </li>\n",
    "{% endfor %}\n",
    "</ul>\n",
    "\n",
    "</body>\n",
    "</html>\n",
    "\n",
    "```\n",
    "Et le `market.html` :\n",
    "\n",
    "```html\n",
    "<html>\n",
    "\n",
    "<head>\n",
    "<h1>Bienvenue chez Loulou Sport</h1>\n",
    "</head>\n",
    "\n",
    "<body>\n",
    "\n",
    "Voici les articles disponibles dans notre magasin : <br>\n",
    "\n",
    "<ul>\n",
    "    <li>ballon\n",
    "        <ul>\n",
    "            <li>foot, prix : 10</li>\n",
    "            <li>volley, prix : 15</li>\n",
    "        </ul>\n",
    "    </li>\n",
    "\n",
    "    <li>raquette\n",
    "        <ul>\n",
    "            <li>tennis, prix : 20</li>\n",
    "            <li>badminton, prix : 25</li>\n",
    "        </ul>\n",
    "    </li>\n",
    "\n",
    "    <li>chaussures\n",
    "        <ul>\n",
    "            <li>rouge, prix : 30</li>\n",
    "            <li>bleu, prix : 35</li>\n",
    "            <li>vert, prix : 40</li>\n",
    "        </ul>\n",
    "    </li>\n",
    "</ul>\n",
    "\n",
    "</body>\n",
    "</html>\n",
    "```\n",
    "\n",
    "On le lance avec la commande `python3 replace_flask.py` et ensuite on clique sur le lien qui s'affiche dans le terminal.\n",
    "\n",
    "On obtient alors le résultat suivant :\n",
    "\n",
    "[![enter image description here](https://i.stack.imgur.com/3wLut.png)](https://i.stack.imgur.com/3wLut.png)\n",
    "\n"
   ]
  },
  {
   "attachments": {},
   "cell_type": "markdown",
   "metadata": {},
   "source": [
    "# Singleton\n",
    "\n",
    "Le design pattern Singleton permet de créer une classe qui n'a qu'une seule instance. C'est un design pattern très utilisé pour les loggers."
   ]
  },
  {
   "cell_type": "code",
   "execution_count": 16,
   "metadata": {},
   "outputs": [],
   "source": [
    "# Singleton pattern (single instance of a class)\n",
    "\n",
    "# Manière 1 (Pas top)\n",
    "from typing import Any\n",
    "\n",
    "\n",
    "class Singleton(object):\n",
    "    _instance = None\n",
    "\n",
    "    def __new__(cls, *args, **kwargs):\n",
    "        if not cls._instance:\n",
    "            print(\"Creating instance\")\n",
    "            cls._instance = super().__new__(cls, *args, **kwargs)\n",
    "        return cls._instance\n",
    "\n",
    "# Manière 2 (Pythonic)\n",
    "class Singleton2(object):\n",
    "    _instances = {}\n",
    "\n",
    "    def __call__(cls, *args, **kwargs):\n",
    "        if cls not in cls._instances:\n",
    "            cls._instances[cls] = super().__call__(*args, **kwargs)\n",
    "        return cls._instances[cls]\n",
    "\n",
    "\n",
    "class Logger(object):\n",
    "    __metaclass__ = Singleton2\n"
   ]
  },
  {
   "attachments": {},
   "cell_type": "markdown",
   "metadata": {},
   "source": [
    "# Création d'un package à publié sur PyPi\n",
    "\n",
    "## Fichier spéciaux\n",
    "\n",
    "- `.editorconfig` : pour définir les règles de codage\n",
    "- `.gitignore` : pour ignorer les fichiers à ne pas mettre sur git\n",
    "- `README.md` : pour décrire le package\n",
    "- `setup.py` : fichier utiliser par pip pour qu'il installe le package\n",
    "- `setup.cfg` : fichier de configuration pour le package\n",
    "- `pyproject.toml` : fichier de configuration pour le package\n",
    "\n",
    "## Commandes\n",
    "\n",
    "- `pip install -e .` : pour installer le package en mode développement en se trouvant dans le dossier du package\n",
    "\n",
    "Si une erreur mentionne : _LookupError: setuptools-scm was unable to detect version for /mnt/c/Users/arnau/OneDrive/Documents/HEIGVD/Semestre_6/Python/diary_perso_python/13/heigvd_\n",
    "\n",
    "Il faut faire crée un repo git et faire une version avec un tag.\n",
    "\n",
    "1. `git init`\n",
    "2. `git add .`\n",
    "3. `git commit -m \"Initial commit\"`\n",
    "4. `git tag -a 0.0.1`\n",
    "5. `git describe` -> doit fonctionner\n"
   ]
  },
  {
   "attachments": {},
   "cell_type": "markdown",
   "metadata": {},
   "source": [
    "\n",
    "# Exceptions\n",
    "\n",
    "Les exceptions en python permettent de simplifier le code"
   ]
  },
  {
   "cell_type": "code",
   "execution_count": 22,
   "metadata": {},
   "outputs": [
    {
     "name": "stdout",
     "output_type": "stream",
     "text": [
      "Division par 0\n"
     ]
    }
   ],
   "source": [
    "try :\n",
    "    a = 12/0\n",
    "except :\n",
    "    print(\"Division par 0\")"
   ]
  },
  {
   "attachments": {},
   "cell_type": "markdown",
   "metadata": {},
   "source": [
    "## Exemple 1"
   ]
  },
  {
   "cell_type": "code",
   "execution_count": 23,
   "metadata": {},
   "outputs": [],
   "source": [
    "codes = [4,8,15,16,23,42]\n",
    "\n",
    "def get_code(i) :\n",
    "    if (i > len(codes)) :\n",
    "        raise ValueError('Mauvais valeur de i')\n",
    "    return codes[i]"
   ]
  },
  {
   "attachments": {},
   "cell_type": "markdown",
   "metadata": {},
   "source": [
    "Mais c'est mieux de faire ceci, car aucun test n'est nécessaire :"
   ]
  },
  {
   "cell_type": "code",
   "execution_count": 24,
   "metadata": {},
   "outputs": [],
   "source": [
    "def get_code(i) :\n",
    "    try :\n",
    "        return codes[i]\n",
    "    except IndexError :\n",
    "        raise ValueError('Mauvais valeur de i')"
   ]
  },
  {
   "attachments": {},
   "cell_type": "markdown",
   "metadata": {},
   "source": [
    "# Les décorateurs\n",
    "\n",
    "Les décorateurs permettent d'ajouter des fonctionnalités à une fonction sans la modifier."
   ]
  },
  {
   "cell_type": "code",
   "execution_count": 25,
   "metadata": {},
   "outputs": [
    {
     "name": "stdout",
     "output_type": "stream",
     "text": [
      "Before\n",
      "Inside\n",
      "After\n"
     ]
    }
   ],
   "source": [
    "def my_decorator(func):\n",
    "    def wrapper(*args, **kwargs):\n",
    "        print('Before')\n",
    "        func(*args, **kwargs)\n",
    "        print('After')\n",
    "    return wrapper\n",
    "\n",
    "@my_decorator\n",
    "def foo():\n",
    "    print('Inside')\n",
    "\n",
    "foo()"
   ]
  }
 ],
 "metadata": {
  "kernelspec": {
   "display_name": "Python 3 (ipykernel)",
   "language": "python",
   "name": "python3"
  },
  "language_info": {
   "codemirror_mode": {
    "name": "ipython",
    "version": 3
   },
   "file_extension": ".py",
   "mimetype": "text/x-python",
   "name": "python",
   "nbconvert_exporter": "python",
   "pygments_lexer": "ipython3",
   "version": "3.8.10"
  },
  "orig_nbformat": 4
 },
 "nbformat": 4,
 "nbformat_minor": 2
}
